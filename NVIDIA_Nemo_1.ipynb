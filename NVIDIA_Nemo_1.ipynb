{
  "cells": [
    {
      "cell_type": "markdown",
      "metadata": {
        "id": "JyphkdAp8l4D"
      },
      "source": [
        "#Use of  T4 GPU"
      ]
    },
    {
      "cell_type": "code",
      "execution_count": 25,
      "metadata": {
        "colab": {
          "base_uri": "https://localhost:8080/"
        },
        "id": "0d4yMbk97mc9",
        "outputId": "55a4a07c-98fe-4210-cc79-e67eaec1be28"
      },
      "outputs": [
        {
          "output_type": "stream",
          "name": "stdout",
          "text": [
            "GPU 0: Tesla T4 (UUID: GPU-215dba73-78a2-1c55-6e9a-b10f1b709df2)\n"
          ]
        }
      ],
      "source": [
        "!nvidia-smi -L\n"
      ]
    },
    {
      "cell_type": "code",
      "execution_count": 26,
      "metadata": {
        "colab": {
          "base_uri": "https://localhost:8080/"
        },
        "id": "ptrSYatg8u0s",
        "outputId": "ba387d3f-bdf0-4671-f6a8-7f060b57d33f"
      },
      "outputs": [
        {
          "output_type": "stream",
          "name": "stdout",
          "text": [
            "Collecting git+https://github.com/NVIDIA/NeMo.git\n",
            "  Cloning https://github.com/NVIDIA/NeMo.git to /tmp/pip-req-build-_y9z1big\n",
            "  Running command git clone --filter=blob:none --quiet https://github.com/NVIDIA/NeMo.git /tmp/pip-req-build-_y9z1big\n",
            "  Resolved https://github.com/NVIDIA/NeMo.git to commit f4afdf07ad742bdb2f45135f05d5d7dd8270eb51\n",
            "  Installing build dependencies ... \u001b[?25l\u001b[?25hdone\n",
            "  Getting requirements to build wheel ... \u001b[?25l\u001b[?25hdone\n",
            "  Preparing metadata (pyproject.toml) ... \u001b[?25l\u001b[?25hdone\n",
            "Requirement already satisfied: huggingface-hub in /usr/local/lib/python3.10/dist-packages (from nemo-toolkit==1.21.0rc0) (0.16.4)\n",
            "Requirement already satisfied: numba in /usr/local/lib/python3.10/dist-packages (from nemo-toolkit==1.21.0rc0) (0.56.4)\n",
            "Requirement already satisfied: numpy<1.24,>=1.22 in /usr/local/lib/python3.10/dist-packages (from nemo-toolkit==1.21.0rc0) (1.23.5)\n",
            "Requirement already satisfied: onnx>=1.7.0 in /usr/local/lib/python3.10/dist-packages (from nemo-toolkit==1.21.0rc0) (1.14.0)\n",
            "Requirement already satisfied: python-dateutil in /usr/local/lib/python3.10/dist-packages (from nemo-toolkit==1.21.0rc0) (2.8.2)\n",
            "Requirement already satisfied: ruamel.yaml in /usr/local/lib/python3.10/dist-packages (from nemo-toolkit==1.21.0rc0) (0.17.32)\n",
            "Requirement already satisfied: scikit-learn in /usr/local/lib/python3.10/dist-packages (from nemo-toolkit==1.21.0rc0) (1.2.2)\n",
            "Requirement already satisfied: setuptools==65.5.1 in /usr/local/lib/python3.10/dist-packages (from nemo-toolkit==1.21.0rc0) (65.5.1)\n",
            "Requirement already satisfied: tensorboard in /usr/local/lib/python3.10/dist-packages (from nemo-toolkit==1.21.0rc0) (2.12.3)\n",
            "Requirement already satisfied: text-unidecode in /usr/local/lib/python3.10/dist-packages (from nemo-toolkit==1.21.0rc0) (1.3)\n",
            "Requirement already satisfied: torch in /usr/local/lib/python3.10/dist-packages (from nemo-toolkit==1.21.0rc0) (2.0.1+cu118)\n",
            "Requirement already satisfied: tqdm>=4.41.0 in /usr/local/lib/python3.10/dist-packages (from nemo-toolkit==1.21.0rc0) (4.66.0)\n",
            "Requirement already satisfied: wget in /usr/local/lib/python3.10/dist-packages (from nemo-toolkit==1.21.0rc0) (3.2)\n",
            "Requirement already satisfied: wrapt in /usr/local/lib/python3.10/dist-packages (from nemo-toolkit==1.21.0rc0) (1.14.1)\n",
            "Requirement already satisfied: protobuf>=3.20.2 in /usr/local/lib/python3.10/dist-packages (from onnx>=1.7.0->nemo-toolkit==1.21.0rc0) (3.20.3)\n",
            "Requirement already satisfied: typing-extensions>=3.6.2.1 in /usr/local/lib/python3.10/dist-packages (from onnx>=1.7.0->nemo-toolkit==1.21.0rc0) (4.7.1)\n",
            "Requirement already satisfied: filelock in /usr/local/lib/python3.10/dist-packages (from huggingface-hub->nemo-toolkit==1.21.0rc0) (3.12.2)\n",
            "Requirement already satisfied: fsspec in /usr/local/lib/python3.10/dist-packages (from huggingface-hub->nemo-toolkit==1.21.0rc0) (2023.6.0)\n",
            "Requirement already satisfied: requests in /usr/local/lib/python3.10/dist-packages (from huggingface-hub->nemo-toolkit==1.21.0rc0) (2.31.0)\n",
            "Requirement already satisfied: pyyaml>=5.1 in /usr/local/lib/python3.10/dist-packages (from huggingface-hub->nemo-toolkit==1.21.0rc0) (6.0.1)\n",
            "Requirement already satisfied: packaging>=20.9 in /usr/local/lib/python3.10/dist-packages (from huggingface-hub->nemo-toolkit==1.21.0rc0) (23.1)\n",
            "Requirement already satisfied: llvmlite<0.40,>=0.39.0dev0 in /usr/local/lib/python3.10/dist-packages (from numba->nemo-toolkit==1.21.0rc0) (0.39.1)\n",
            "Requirement already satisfied: six>=1.5 in /usr/local/lib/python3.10/dist-packages (from python-dateutil->nemo-toolkit==1.21.0rc0) (1.16.0)\n",
            "Requirement already satisfied: ruamel.yaml.clib>=0.2.7 in /usr/local/lib/python3.10/dist-packages (from ruamel.yaml->nemo-toolkit==1.21.0rc0) (0.2.7)\n",
            "Requirement already satisfied: scipy>=1.3.2 in /usr/local/lib/python3.10/dist-packages (from scikit-learn->nemo-toolkit==1.21.0rc0) (1.10.1)\n",
            "Requirement already satisfied: joblib>=1.1.1 in /usr/local/lib/python3.10/dist-packages (from scikit-learn->nemo-toolkit==1.21.0rc0) (1.3.2)\n",
            "Requirement already satisfied: threadpoolctl>=2.0.0 in /usr/local/lib/python3.10/dist-packages (from scikit-learn->nemo-toolkit==1.21.0rc0) (3.2.0)\n",
            "Requirement already satisfied: absl-py>=0.4 in /usr/local/lib/python3.10/dist-packages (from tensorboard->nemo-toolkit==1.21.0rc0) (1.4.0)\n",
            "Requirement already satisfied: grpcio>=1.48.2 in /usr/local/lib/python3.10/dist-packages (from tensorboard->nemo-toolkit==1.21.0rc0) (1.56.2)\n",
            "Requirement already satisfied: google-auth<3,>=1.6.3 in /usr/local/lib/python3.10/dist-packages (from tensorboard->nemo-toolkit==1.21.0rc0) (2.17.3)\n",
            "Requirement already satisfied: google-auth-oauthlib<1.1,>=0.5 in /usr/local/lib/python3.10/dist-packages (from tensorboard->nemo-toolkit==1.21.0rc0) (1.0.0)\n",
            "Requirement already satisfied: markdown>=2.6.8 in /usr/local/lib/python3.10/dist-packages (from tensorboard->nemo-toolkit==1.21.0rc0) (3.4.4)\n",
            "Requirement already satisfied: tensorboard-data-server<0.8.0,>=0.7.0 in /usr/local/lib/python3.10/dist-packages (from tensorboard->nemo-toolkit==1.21.0rc0) (0.7.1)\n",
            "Requirement already satisfied: werkzeug>=1.0.1 in /usr/local/lib/python3.10/dist-packages (from tensorboard->nemo-toolkit==1.21.0rc0) (2.3.6)\n",
            "Requirement already satisfied: wheel>=0.26 in /usr/local/lib/python3.10/dist-packages (from tensorboard->nemo-toolkit==1.21.0rc0) (0.41.1)\n",
            "Requirement already satisfied: sympy in /usr/local/lib/python3.10/dist-packages (from torch->nemo-toolkit==1.21.0rc0) (1.12)\n",
            "Requirement already satisfied: networkx in /usr/local/lib/python3.10/dist-packages (from torch->nemo-toolkit==1.21.0rc0) (3.1)\n",
            "Requirement already satisfied: jinja2 in /usr/local/lib/python3.10/dist-packages (from torch->nemo-toolkit==1.21.0rc0) (3.1.2)\n",
            "Requirement already satisfied: triton==2.0.0 in /usr/local/lib/python3.10/dist-packages (from torch->nemo-toolkit==1.21.0rc0) (2.0.0)\n",
            "Requirement already satisfied: cmake in /usr/local/lib/python3.10/dist-packages (from triton==2.0.0->torch->nemo-toolkit==1.21.0rc0) (3.27.1)\n",
            "Requirement already satisfied: lit in /usr/local/lib/python3.10/dist-packages (from triton==2.0.0->torch->nemo-toolkit==1.21.0rc0) (16.0.6)\n",
            "Requirement already satisfied: cachetools<6.0,>=2.0.0 in /usr/local/lib/python3.10/dist-packages (from google-auth<3,>=1.6.3->tensorboard->nemo-toolkit==1.21.0rc0) (5.3.1)\n",
            "Requirement already satisfied: pyasn1-modules>=0.2.1 in /usr/local/lib/python3.10/dist-packages (from google-auth<3,>=1.6.3->tensorboard->nemo-toolkit==1.21.0rc0) (0.3.0)\n",
            "Requirement already satisfied: rsa<5,>=3.1.4 in /usr/local/lib/python3.10/dist-packages (from google-auth<3,>=1.6.3->tensorboard->nemo-toolkit==1.21.0rc0) (4.9)\n",
            "Requirement already satisfied: requests-oauthlib>=0.7.0 in /usr/local/lib/python3.10/dist-packages (from google-auth-oauthlib<1.1,>=0.5->tensorboard->nemo-toolkit==1.21.0rc0) (1.3.1)\n",
            "Requirement already satisfied: charset-normalizer<4,>=2 in /usr/local/lib/python3.10/dist-packages (from requests->huggingface-hub->nemo-toolkit==1.21.0rc0) (3.2.0)\n",
            "Requirement already satisfied: idna<4,>=2.5 in /usr/local/lib/python3.10/dist-packages (from requests->huggingface-hub->nemo-toolkit==1.21.0rc0) (3.4)\n",
            "Requirement already satisfied: urllib3<3,>=1.21.1 in /usr/local/lib/python3.10/dist-packages (from requests->huggingface-hub->nemo-toolkit==1.21.0rc0) (2.0.4)\n",
            "Requirement already satisfied: certifi>=2017.4.17 in /usr/local/lib/python3.10/dist-packages (from requests->huggingface-hub->nemo-toolkit==1.21.0rc0) (2023.7.22)\n",
            "Requirement already satisfied: MarkupSafe>=2.1.1 in /usr/local/lib/python3.10/dist-packages (from werkzeug>=1.0.1->tensorboard->nemo-toolkit==1.21.0rc0) (2.1.3)\n",
            "Requirement already satisfied: mpmath>=0.19 in /usr/local/lib/python3.10/dist-packages (from sympy->torch->nemo-toolkit==1.21.0rc0) (1.3.0)\n",
            "Requirement already satisfied: pyasn1<0.6.0,>=0.4.6 in /usr/local/lib/python3.10/dist-packages (from pyasn1-modules>=0.2.1->google-auth<3,>=1.6.3->tensorboard->nemo-toolkit==1.21.0rc0) (0.5.0)\n",
            "Requirement already satisfied: oauthlib>=3.0.0 in /usr/local/lib/python3.10/dist-packages (from requests-oauthlib>=0.7.0->google-auth-oauthlib<1.1,>=0.5->tensorboard->nemo-toolkit==1.21.0rc0) (3.2.2)\n"
          ]
        }
      ],
      "source": [
        "BRANCH = 'r1.6.0'\n",
        "!python -m pip install git+https://github.com/NVIDIA/NeMo.git"
      ]
    },
    {
      "cell_type": "code",
      "execution_count": 59,
      "metadata": {
        "id": "_aS_3gNJ9Gkm",
        "colab": {
          "base_uri": "https://localhost:8080/"
        },
        "outputId": "397459dd-3f92-4c09-a501-2cb12409a7a8"
      },
      "outputs": [
        {
          "output_type": "stream",
          "name": "stdout",
          "text": [
            "Collecting pydub\n",
            "  Downloading pydub-0.25.1-py2.py3-none-any.whl (32 kB)\n",
            "Installing collected packages: pydub\n",
            "Successfully installed pydub-0.25.1\n"
          ]
        }
      ],
      "source": [
        "!pip install pydub"
      ]
    },
    {
      "cell_type": "markdown",
      "metadata": {
        "id": "u0ZUPVPE-PWk"
      },
      "source": [
        "# Installing Dependencies"
      ]
    },
    {
      "cell_type": "code",
      "execution_count": 27,
      "metadata": {
        "colab": {
          "base_uri": "https://localhost:8080/"
        },
        "id": "u_eUWejO-8iq",
        "outputId": "5f9b67b4-ae1e-4a47-d5a8-242bfde07a91"
      },
      "outputs": [
        {
          "output_type": "stream",
          "name": "stdout",
          "text": [
            "Requirement already satisfied: hydra-core in /usr/local/lib/python3.10/dist-packages (1.3.2)\n",
            "Requirement already satisfied: omegaconf<2.4,>=2.2 in /usr/local/lib/python3.10/dist-packages (from hydra-core) (2.3.0)\n",
            "Requirement already satisfied: antlr4-python3-runtime==4.9.* in /usr/local/lib/python3.10/dist-packages (from hydra-core) (4.9.3)\n",
            "Requirement already satisfied: packaging in /usr/local/lib/python3.10/dist-packages (from hydra-core) (23.1)\n",
            "Requirement already satisfied: PyYAML>=5.1.0 in /usr/local/lib/python3.10/dist-packages (from omegaconf<2.4,>=2.2->hydra-core) (6.0.1)\n",
            "Requirement already satisfied: pytorch-lightning in /usr/local/lib/python3.10/dist-packages (2.0.0)\n",
            "Requirement already satisfied: numpy>=1.17.2 in /usr/local/lib/python3.10/dist-packages (from pytorch-lightning) (1.23.5)\n",
            "Requirement already satisfied: torch>=1.11.0 in /usr/local/lib/python3.10/dist-packages (from pytorch-lightning) (2.0.1+cu118)\n",
            "Requirement already satisfied: tqdm>=4.57.0 in /usr/local/lib/python3.10/dist-packages (from pytorch-lightning) (4.66.0)\n",
            "Requirement already satisfied: PyYAML>=5.4 in /usr/local/lib/python3.10/dist-packages (from pytorch-lightning) (6.0.1)\n",
            "Requirement already satisfied: fsspec[http]>2021.06.0 in /usr/local/lib/python3.10/dist-packages (from pytorch-lightning) (2023.6.0)\n",
            "Requirement already satisfied: torchmetrics>=0.7.0 in /usr/local/lib/python3.10/dist-packages (from pytorch-lightning) (1.0.3)\n",
            "Requirement already satisfied: packaging>=17.1 in /usr/local/lib/python3.10/dist-packages (from pytorch-lightning) (23.1)\n",
            "Requirement already satisfied: typing-extensions>=4.0.0 in /usr/local/lib/python3.10/dist-packages (from pytorch-lightning) (4.7.1)\n",
            "Requirement already satisfied: lightning-utilities>=0.7.0 in /usr/local/lib/python3.10/dist-packages (from pytorch-lightning) (0.9.0)\n",
            "Requirement already satisfied: requests in /usr/local/lib/python3.10/dist-packages (from fsspec[http]>2021.06.0->pytorch-lightning) (2.31.0)\n",
            "Requirement already satisfied: aiohttp!=4.0.0a0,!=4.0.0a1 in /usr/local/lib/python3.10/dist-packages (from fsspec[http]>2021.06.0->pytorch-lightning) (3.8.5)\n",
            "Requirement already satisfied: filelock in /usr/local/lib/python3.10/dist-packages (from torch>=1.11.0->pytorch-lightning) (3.12.2)\n",
            "Requirement already satisfied: sympy in /usr/local/lib/python3.10/dist-packages (from torch>=1.11.0->pytorch-lightning) (1.12)\n",
            "Requirement already satisfied: networkx in /usr/local/lib/python3.10/dist-packages (from torch>=1.11.0->pytorch-lightning) (3.1)\n",
            "Requirement already satisfied: jinja2 in /usr/local/lib/python3.10/dist-packages (from torch>=1.11.0->pytorch-lightning) (3.1.2)\n",
            "Requirement already satisfied: triton==2.0.0 in /usr/local/lib/python3.10/dist-packages (from torch>=1.11.0->pytorch-lightning) (2.0.0)\n",
            "Requirement already satisfied: cmake in /usr/local/lib/python3.10/dist-packages (from triton==2.0.0->torch>=1.11.0->pytorch-lightning) (3.27.1)\n",
            "Requirement already satisfied: lit in /usr/local/lib/python3.10/dist-packages (from triton==2.0.0->torch>=1.11.0->pytorch-lightning) (16.0.6)\n",
            "Requirement already satisfied: attrs>=17.3.0 in /usr/local/lib/python3.10/dist-packages (from aiohttp!=4.0.0a0,!=4.0.0a1->fsspec[http]>2021.06.0->pytorch-lightning) (23.1.0)\n",
            "Requirement already satisfied: charset-normalizer<4.0,>=2.0 in /usr/local/lib/python3.10/dist-packages (from aiohttp!=4.0.0a0,!=4.0.0a1->fsspec[http]>2021.06.0->pytorch-lightning) (3.2.0)\n",
            "Requirement already satisfied: multidict<7.0,>=4.5 in /usr/local/lib/python3.10/dist-packages (from aiohttp!=4.0.0a0,!=4.0.0a1->fsspec[http]>2021.06.0->pytorch-lightning) (6.0.4)\n",
            "Requirement already satisfied: async-timeout<5.0,>=4.0.0a3 in /usr/local/lib/python3.10/dist-packages (from aiohttp!=4.0.0a0,!=4.0.0a1->fsspec[http]>2021.06.0->pytorch-lightning) (4.0.2)\n",
            "Requirement already satisfied: yarl<2.0,>=1.0 in /usr/local/lib/python3.10/dist-packages (from aiohttp!=4.0.0a0,!=4.0.0a1->fsspec[http]>2021.06.0->pytorch-lightning) (1.9.2)\n",
            "Requirement already satisfied: frozenlist>=1.1.1 in /usr/local/lib/python3.10/dist-packages (from aiohttp!=4.0.0a0,!=4.0.0a1->fsspec[http]>2021.06.0->pytorch-lightning) (1.4.0)\n",
            "Requirement already satisfied: aiosignal>=1.1.2 in /usr/local/lib/python3.10/dist-packages (from aiohttp!=4.0.0a0,!=4.0.0a1->fsspec[http]>2021.06.0->pytorch-lightning) (1.3.1)\n",
            "Requirement already satisfied: MarkupSafe>=2.0 in /usr/local/lib/python3.10/dist-packages (from jinja2->torch>=1.11.0->pytorch-lightning) (2.1.3)\n",
            "Requirement already satisfied: idna<4,>=2.5 in /usr/local/lib/python3.10/dist-packages (from requests->fsspec[http]>2021.06.0->pytorch-lightning) (3.4)\n",
            "Requirement already satisfied: urllib3<3,>=1.21.1 in /usr/local/lib/python3.10/dist-packages (from requests->fsspec[http]>2021.06.0->pytorch-lightning) (2.0.4)\n",
            "Requirement already satisfied: certifi>=2017.4.17 in /usr/local/lib/python3.10/dist-packages (from requests->fsspec[http]>2021.06.0->pytorch-lightning) (2023.7.22)\n",
            "Requirement already satisfied: mpmath>=0.19 in /usr/local/lib/python3.10/dist-packages (from sympy->torch>=1.11.0->pytorch-lightning) (1.3.0)\n"
          ]
        }
      ],
      "source": [
        "!pip install hydra-core\n",
        "!pip install pytorch-lightning"
      ]
    },
    {
      "cell_type": "code",
      "execution_count": 28,
      "metadata": {
        "colab": {
          "base_uri": "https://localhost:8080/"
        },
        "id": "J-aLpL0nAvxN",
        "outputId": "f0811d37-9f22-4f90-845d-2e27f9a7cb42"
      },
      "outputs": [
        {
          "output_type": "stream",
          "name": "stdout",
          "text": [
            "Requirement already satisfied: hydra-core in /usr/local/lib/python3.10/dist-packages (1.3.2)\n",
            "Requirement already satisfied: omegaconf<2.4,>=2.2 in /usr/local/lib/python3.10/dist-packages (from hydra-core) (2.3.0)\n",
            "Requirement already satisfied: antlr4-python3-runtime==4.9.* in /usr/local/lib/python3.10/dist-packages (from hydra-core) (4.9.3)\n",
            "Requirement already satisfied: packaging in /usr/local/lib/python3.10/dist-packages (from hydra-core) (23.1)\n",
            "Requirement already satisfied: PyYAML>=5.1.0 in /usr/local/lib/python3.10/dist-packages (from omegaconf<2.4,>=2.2->hydra-core) (6.0.1)\n"
          ]
        }
      ],
      "source": [
        "pip install hydra-core --upgrade\n"
      ]
    },
    {
      "cell_type": "code",
      "execution_count": 29,
      "metadata": {
        "colab": {
          "base_uri": "https://localhost:8080/"
        },
        "id": "u8vCHhVJ_cID",
        "outputId": "37e6124a-dfe6-446a-9454-08e18bf48bf0"
      },
      "outputs": [
        {
          "output_type": "stream",
          "name": "stdout",
          "text": [
            "Requirement already satisfied: braceexpand in /usr/local/lib/python3.10/dist-packages (0.1.7)\n",
            "Requirement already satisfied: webdataset in /usr/local/lib/python3.10/dist-packages (0.2.48)\n",
            "Requirement already satisfied: braceexpand in /usr/local/lib/python3.10/dist-packages (from webdataset) (0.1.7)\n",
            "Requirement already satisfied: numpy in /usr/local/lib/python3.10/dist-packages (from webdataset) (1.23.5)\n",
            "Requirement already satisfied: pyyaml in /usr/local/lib/python3.10/dist-packages (from webdataset) (6.0.1)\n"
          ]
        }
      ],
      "source": [
        "!pip install braceexpand\n",
        "!pip install webdataset\n"
      ]
    },
    {
      "cell_type": "code",
      "execution_count": 30,
      "metadata": {
        "colab": {
          "base_uri": "https://localhost:8080/"
        },
        "id": "T9hsCopl_211",
        "outputId": "d7dcedbb-9a2c-4add-802c-845c9ba9c1b1"
      },
      "outputs": [
        {
          "output_type": "stream",
          "name": "stdout",
          "text": [
            "Requirement already satisfied: torch-stft in /usr/local/lib/python3.10/dist-packages (0.1.4)\n",
            "Requirement already satisfied: numpy in /usr/local/lib/python3.10/dist-packages (from torch-stft) (1.23.5)\n",
            "Requirement already satisfied: scipy in /usr/local/lib/python3.10/dist-packages (from torch-stft) (1.10.1)\n",
            "Requirement already satisfied: librosa in /usr/local/lib/python3.10/dist-packages (from torch-stft) (0.10.0.post2)\n",
            "Requirement already satisfied: audioread>=2.1.9 in /usr/local/lib/python3.10/dist-packages (from librosa->torch-stft) (3.0.0)\n",
            "Requirement already satisfied: scikit-learn>=0.20.0 in /usr/local/lib/python3.10/dist-packages (from librosa->torch-stft) (1.2.2)\n",
            "Requirement already satisfied: joblib>=0.14 in /usr/local/lib/python3.10/dist-packages (from librosa->torch-stft) (1.3.2)\n",
            "Requirement already satisfied: decorator>=4.3.0 in /usr/local/lib/python3.10/dist-packages (from librosa->torch-stft) (4.4.2)\n",
            "Requirement already satisfied: numba>=0.51.0 in /usr/local/lib/python3.10/dist-packages (from librosa->torch-stft) (0.56.4)\n",
            "Requirement already satisfied: soundfile>=0.12.1 in /usr/local/lib/python3.10/dist-packages (from librosa->torch-stft) (0.12.1)\n",
            "Requirement already satisfied: pooch<1.7,>=1.0 in /usr/local/lib/python3.10/dist-packages (from librosa->torch-stft) (1.6.0)\n",
            "Requirement already satisfied: soxr>=0.3.2 in /usr/local/lib/python3.10/dist-packages (from librosa->torch-stft) (0.3.5)\n",
            "Requirement already satisfied: typing-extensions>=4.1.1 in /usr/local/lib/python3.10/dist-packages (from librosa->torch-stft) (4.7.1)\n",
            "Requirement already satisfied: lazy-loader>=0.1 in /usr/local/lib/python3.10/dist-packages (from librosa->torch-stft) (0.3)\n",
            "Requirement already satisfied: msgpack>=1.0 in /usr/local/lib/python3.10/dist-packages (from librosa->torch-stft) (1.0.5)\n",
            "Requirement already satisfied: llvmlite<0.40,>=0.39.0dev0 in /usr/local/lib/python3.10/dist-packages (from numba>=0.51.0->librosa->torch-stft) (0.39.1)\n",
            "Requirement already satisfied: setuptools in /usr/local/lib/python3.10/dist-packages (from numba>=0.51.0->librosa->torch-stft) (65.5.1)\n",
            "Requirement already satisfied: appdirs>=1.3.0 in /usr/local/lib/python3.10/dist-packages (from pooch<1.7,>=1.0->librosa->torch-stft) (1.4.4)\n",
            "Requirement already satisfied: packaging>=20.0 in /usr/local/lib/python3.10/dist-packages (from pooch<1.7,>=1.0->librosa->torch-stft) (23.1)\n",
            "Requirement already satisfied: requests>=2.19.0 in /usr/local/lib/python3.10/dist-packages (from pooch<1.7,>=1.0->librosa->torch-stft) (2.31.0)\n",
            "Requirement already satisfied: threadpoolctl>=2.0.0 in /usr/local/lib/python3.10/dist-packages (from scikit-learn>=0.20.0->librosa->torch-stft) (3.2.0)\n",
            "Requirement already satisfied: cffi>=1.0 in /usr/local/lib/python3.10/dist-packages (from soundfile>=0.12.1->librosa->torch-stft) (1.15.1)\n",
            "Requirement already satisfied: pycparser in /usr/local/lib/python3.10/dist-packages (from cffi>=1.0->soundfile>=0.12.1->librosa->torch-stft) (2.21)\n",
            "Requirement already satisfied: charset-normalizer<4,>=2 in /usr/local/lib/python3.10/dist-packages (from requests>=2.19.0->pooch<1.7,>=1.0->librosa->torch-stft) (3.2.0)\n",
            "Requirement already satisfied: idna<4,>=2.5 in /usr/local/lib/python3.10/dist-packages (from requests>=2.19.0->pooch<1.7,>=1.0->librosa->torch-stft) (3.4)\n",
            "Requirement already satisfied: urllib3<3,>=1.21.1 in /usr/local/lib/python3.10/dist-packages (from requests>=2.19.0->pooch<1.7,>=1.0->librosa->torch-stft) (2.0.4)\n",
            "Requirement already satisfied: certifi>=2017.4.17 in /usr/local/lib/python3.10/dist-packages (from requests>=2.19.0->pooch<1.7,>=1.0->librosa->torch-stft) (2023.7.22)\n",
            "Requirement already satisfied: transformers in /usr/local/lib/python3.10/dist-packages (4.31.0)\n",
            "Requirement already satisfied: filelock in /usr/local/lib/python3.10/dist-packages (from transformers) (3.12.2)\n",
            "Requirement already satisfied: huggingface-hub<1.0,>=0.14.1 in /usr/local/lib/python3.10/dist-packages (from transformers) (0.16.4)\n",
            "Requirement already satisfied: numpy>=1.17 in /usr/local/lib/python3.10/dist-packages (from transformers) (1.23.5)\n",
            "Requirement already satisfied: packaging>=20.0 in /usr/local/lib/python3.10/dist-packages (from transformers) (23.1)\n",
            "Requirement already satisfied: pyyaml>=5.1 in /usr/local/lib/python3.10/dist-packages (from transformers) (6.0.1)\n",
            "Requirement already satisfied: regex!=2019.12.17 in /usr/local/lib/python3.10/dist-packages (from transformers) (2023.6.3)\n",
            "Requirement already satisfied: requests in /usr/local/lib/python3.10/dist-packages (from transformers) (2.31.0)\n",
            "Requirement already satisfied: tokenizers!=0.11.3,<0.14,>=0.11.1 in /usr/local/lib/python3.10/dist-packages (from transformers) (0.13.3)\n",
            "Requirement already satisfied: safetensors>=0.3.1 in /usr/local/lib/python3.10/dist-packages (from transformers) (0.3.2)\n",
            "Requirement already satisfied: tqdm>=4.27 in /usr/local/lib/python3.10/dist-packages (from transformers) (4.66.0)\n",
            "Requirement already satisfied: fsspec in /usr/local/lib/python3.10/dist-packages (from huggingface-hub<1.0,>=0.14.1->transformers) (2023.6.0)\n",
            "Requirement already satisfied: typing-extensions>=3.7.4.3 in /usr/local/lib/python3.10/dist-packages (from huggingface-hub<1.0,>=0.14.1->transformers) (4.7.1)\n",
            "Requirement already satisfied: charset-normalizer<4,>=2 in /usr/local/lib/python3.10/dist-packages (from requests->transformers) (3.2.0)\n",
            "Requirement already satisfied: idna<4,>=2.5 in /usr/local/lib/python3.10/dist-packages (from requests->transformers) (3.4)\n",
            "Requirement already satisfied: urllib3<3,>=1.21.1 in /usr/local/lib/python3.10/dist-packages (from requests->transformers) (2.0.4)\n",
            "Requirement already satisfied: certifi>=2017.4.17 in /usr/local/lib/python3.10/dist-packages (from requests->transformers) (2023.7.22)\n"
          ]
        }
      ],
      "source": [
        "!pip install torch-stft\n",
        "!pip install transformers\n"
      ]
    },
    {
      "cell_type": "code",
      "execution_count": 31,
      "metadata": {
        "colab": {
          "base_uri": "https://localhost:8080/"
        },
        "id": "jZQq0-T6BiOL",
        "outputId": "577df9ec-6b6b-4e61-9615-7cdc35c29f4f"
      },
      "outputs": [
        {
          "output_type": "stream",
          "name": "stdout",
          "text": [
            "Requirement already satisfied: sentencepiece in /usr/local/lib/python3.10/dist-packages (0.1.99)\n"
          ]
        }
      ],
      "source": [
        "!pip install sentencepiece"
      ]
    },
    {
      "cell_type": "code",
      "execution_count": 32,
      "metadata": {
        "colab": {
          "base_uri": "https://localhost:8080/"
        },
        "id": "FfFU_pa2CTuX",
        "outputId": "5abfda99-0fef-4662-fba5-69a42f4f3208"
      },
      "outputs": [
        {
          "output_type": "stream",
          "name": "stdout",
          "text": [
            "Requirement already satisfied: youtokentome in /usr/local/lib/python3.10/dist-packages (1.0.6)\n",
            "Requirement already satisfied: Click>=7.0 in /usr/local/lib/python3.10/dist-packages (from youtokentome) (8.1.6)\n"
          ]
        }
      ],
      "source": [
        "!pip install youtokentome"
      ]
    },
    {
      "cell_type": "code",
      "execution_count": 33,
      "metadata": {
        "colab": {
          "base_uri": "https://localhost:8080/"
        },
        "id": "PBsDh5cOCydS",
        "outputId": "9a551640-8cd7-4438-d150-178ce4eada3e"
      },
      "outputs": [
        {
          "output_type": "stream",
          "name": "stdout",
          "text": [
            "Requirement already satisfied: pyannote.core in /usr/local/lib/python3.10/dist-packages (5.0.0)\n",
            "Requirement already satisfied: sortedcontainers>=2.0.4 in /usr/local/lib/python3.10/dist-packages (from pyannote.core) (2.4.0)\n",
            "Requirement already satisfied: numpy>=1.10.4 in /usr/local/lib/python3.10/dist-packages (from pyannote.core) (1.23.5)\n",
            "Requirement already satisfied: scipy>=1.1 in /usr/local/lib/python3.10/dist-packages (from pyannote.core) (1.10.1)\n",
            "Requirement already satisfied: typing-extensions>=3.7.4.1 in /usr/local/lib/python3.10/dist-packages (from pyannote.core) (4.7.1)\n"
          ]
        }
      ],
      "source": [
        "!pip install pyannote.core\n"
      ]
    },
    {
      "cell_type": "code",
      "execution_count": 34,
      "metadata": {
        "colab": {
          "base_uri": "https://localhost:8080/"
        },
        "id": "Tp6R8_fqDEHx",
        "outputId": "8e030314-d6dc-4791-b169-ad6347067408"
      },
      "outputs": [
        {
          "output_type": "stream",
          "name": "stdout",
          "text": [
            "Requirement already satisfied: pyannote.metrics in /usr/local/lib/python3.10/dist-packages (3.2.1)\n",
            "Requirement already satisfied: pyannote.core>=4.1 in /usr/local/lib/python3.10/dist-packages (from pyannote.metrics) (5.0.0)\n",
            "Requirement already satisfied: pyannote.database>=4.0.1 in /usr/local/lib/python3.10/dist-packages (from pyannote.metrics) (5.0.1)\n",
            "Requirement already satisfied: pandas>=0.19 in /usr/local/lib/python3.10/dist-packages (from pyannote.metrics) (1.5.3)\n",
            "Requirement already satisfied: scipy>=1.1.0 in /usr/local/lib/python3.10/dist-packages (from pyannote.metrics) (1.10.1)\n",
            "Requirement already satisfied: scikit-learn>=0.17.1 in /usr/local/lib/python3.10/dist-packages (from pyannote.metrics) (1.2.2)\n",
            "Requirement already satisfied: docopt>=0.6.2 in /usr/local/lib/python3.10/dist-packages (from pyannote.metrics) (0.6.2)\n",
            "Requirement already satisfied: tabulate>=0.7.7 in /usr/local/lib/python3.10/dist-packages (from pyannote.metrics) (0.9.0)\n",
            "Requirement already satisfied: matplotlib>=2.0.0 in /usr/local/lib/python3.10/dist-packages (from pyannote.metrics) (3.7.1)\n",
            "Requirement already satisfied: sympy>=1.1 in /usr/local/lib/python3.10/dist-packages (from pyannote.metrics) (1.12)\n",
            "Requirement already satisfied: numpy in /usr/local/lib/python3.10/dist-packages (from pyannote.metrics) (1.23.5)\n",
            "Requirement already satisfied: contourpy>=1.0.1 in /usr/local/lib/python3.10/dist-packages (from matplotlib>=2.0.0->pyannote.metrics) (1.1.0)\n",
            "Requirement already satisfied: cycler>=0.10 in /usr/local/lib/python3.10/dist-packages (from matplotlib>=2.0.0->pyannote.metrics) (0.11.0)\n",
            "Requirement already satisfied: fonttools>=4.22.0 in /usr/local/lib/python3.10/dist-packages (from matplotlib>=2.0.0->pyannote.metrics) (4.42.0)\n",
            "Requirement already satisfied: kiwisolver>=1.0.1 in /usr/local/lib/python3.10/dist-packages (from matplotlib>=2.0.0->pyannote.metrics) (1.4.4)\n",
            "Requirement already satisfied: packaging>=20.0 in /usr/local/lib/python3.10/dist-packages (from matplotlib>=2.0.0->pyannote.metrics) (23.1)\n",
            "Requirement already satisfied: pillow>=6.2.0 in /usr/local/lib/python3.10/dist-packages (from matplotlib>=2.0.0->pyannote.metrics) (9.4.0)\n",
            "Requirement already satisfied: pyparsing>=2.3.1 in /usr/local/lib/python3.10/dist-packages (from matplotlib>=2.0.0->pyannote.metrics) (3.1.1)\n",
            "Requirement already satisfied: python-dateutil>=2.7 in /usr/local/lib/python3.10/dist-packages (from matplotlib>=2.0.0->pyannote.metrics) (2.8.2)\n",
            "Requirement already satisfied: pytz>=2020.1 in /usr/local/lib/python3.10/dist-packages (from pandas>=0.19->pyannote.metrics) (2023.3)\n",
            "Requirement already satisfied: sortedcontainers>=2.0.4 in /usr/local/lib/python3.10/dist-packages (from pyannote.core>=4.1->pyannote.metrics) (2.4.0)\n",
            "Requirement already satisfied: typing-extensions>=3.7.4.1 in /usr/local/lib/python3.10/dist-packages (from pyannote.core>=4.1->pyannote.metrics) (4.7.1)\n",
            "Requirement already satisfied: pyYAML>=3.12 in /usr/local/lib/python3.10/dist-packages (from pyannote.database>=4.0.1->pyannote.metrics) (6.0.1)\n",
            "Requirement already satisfied: typer[all]>=0.2.1 in /usr/local/lib/python3.10/dist-packages (from pyannote.database>=4.0.1->pyannote.metrics) (0.9.0)\n",
            "Requirement already satisfied: joblib>=1.1.1 in /usr/local/lib/python3.10/dist-packages (from scikit-learn>=0.17.1->pyannote.metrics) (1.3.2)\n",
            "Requirement already satisfied: threadpoolctl>=2.0.0 in /usr/local/lib/python3.10/dist-packages (from scikit-learn>=0.17.1->pyannote.metrics) (3.2.0)\n",
            "Requirement already satisfied: mpmath>=0.19 in /usr/local/lib/python3.10/dist-packages (from sympy>=1.1->pyannote.metrics) (1.3.0)\n",
            "Requirement already satisfied: six>=1.5 in /usr/local/lib/python3.10/dist-packages (from python-dateutil>=2.7->matplotlib>=2.0.0->pyannote.metrics) (1.16.0)\n",
            "Requirement already satisfied: click<9.0.0,>=7.1.1 in /usr/local/lib/python3.10/dist-packages (from typer[all]>=0.2.1->pyannote.database>=4.0.1->pyannote.metrics) (8.1.6)\n",
            "Requirement already satisfied: colorama<0.5.0,>=0.4.3 in /usr/local/lib/python3.10/dist-packages (from typer[all]>=0.2.1->pyannote.database>=4.0.1->pyannote.metrics) (0.4.6)\n",
            "Requirement already satisfied: shellingham<2.0.0,>=1.3.0 in /usr/local/lib/python3.10/dist-packages (from typer[all]>=0.2.1->pyannote.database>=4.0.1->pyannote.metrics) (1.5.0.post1)\n",
            "Requirement already satisfied: rich<14.0.0,>=10.11.0 in /usr/local/lib/python3.10/dist-packages (from typer[all]>=0.2.1->pyannote.database>=4.0.1->pyannote.metrics) (13.5.2)\n",
            "Requirement already satisfied: markdown-it-py>=2.2.0 in /usr/local/lib/python3.10/dist-packages (from rich<14.0.0,>=10.11.0->typer[all]>=0.2.1->pyannote.database>=4.0.1->pyannote.metrics) (3.0.0)\n",
            "Requirement already satisfied: pygments<3.0.0,>=2.13.0 in /usr/local/lib/python3.10/dist-packages (from rich<14.0.0,>=10.11.0->typer[all]>=0.2.1->pyannote.database>=4.0.1->pyannote.metrics) (2.16.1)\n",
            "Requirement already satisfied: mdurl~=0.1 in /usr/local/lib/python3.10/dist-packages (from markdown-it-py>=2.2.0->rich<14.0.0,>=10.11.0->typer[all]>=0.2.1->pyannote.database>=4.0.1->pyannote.metrics) (0.1.2)\n"
          ]
        }
      ],
      "source": [
        "!pip install pyannote.metrics"
      ]
    },
    {
      "cell_type": "code",
      "execution_count": 35,
      "metadata": {
        "colab": {
          "base_uri": "https://localhost:8080/"
        },
        "id": "3yeA0a_XDsV8",
        "outputId": "4a3f11a7-c168-406d-9495-a06d5cdd2734"
      },
      "outputs": [
        {
          "output_type": "stream",
          "name": "stdout",
          "text": [
            "Requirement already satisfied: jiwer in /usr/local/lib/python3.10/dist-packages (3.0.2)\n",
            "Requirement already satisfied: click<9.0.0,>=8.1.3 in /usr/local/lib/python3.10/dist-packages (from jiwer) (8.1.6)\n",
            "Requirement already satisfied: rapidfuzz==2.13.7 in /usr/local/lib/python3.10/dist-packages (from jiwer) (2.13.7)\n"
          ]
        }
      ],
      "source": [
        "!pip install jiwer"
      ]
    },
    {
      "cell_type": "code",
      "execution_count": 36,
      "metadata": {
        "colab": {
          "base_uri": "https://localhost:8080/"
        },
        "id": "y6lQA6jzEUbO",
        "outputId": "c8df06f8-cef1-407e-a77b-117e96ae10a8"
      },
      "outputs": [
        {
          "output_type": "stream",
          "name": "stdout",
          "text": [
            "Requirement already satisfied: librosa in /usr/local/lib/python3.10/dist-packages (0.10.0.post2)\n",
            "Requirement already satisfied: audioread>=2.1.9 in /usr/local/lib/python3.10/dist-packages (from librosa) (3.0.0)\n",
            "Requirement already satisfied: numpy!=1.22.0,!=1.22.1,!=1.22.2,>=1.20.3 in /usr/local/lib/python3.10/dist-packages (from librosa) (1.23.5)\n",
            "Requirement already satisfied: scipy>=1.2.0 in /usr/local/lib/python3.10/dist-packages (from librosa) (1.10.1)\n",
            "Requirement already satisfied: scikit-learn>=0.20.0 in /usr/local/lib/python3.10/dist-packages (from librosa) (1.2.2)\n",
            "Requirement already satisfied: joblib>=0.14 in /usr/local/lib/python3.10/dist-packages (from librosa) (1.3.2)\n",
            "Requirement already satisfied: decorator>=4.3.0 in /usr/local/lib/python3.10/dist-packages (from librosa) (4.4.2)\n",
            "Requirement already satisfied: numba>=0.51.0 in /usr/local/lib/python3.10/dist-packages (from librosa) (0.56.4)\n",
            "Requirement already satisfied: soundfile>=0.12.1 in /usr/local/lib/python3.10/dist-packages (from librosa) (0.12.1)\n",
            "Requirement already satisfied: pooch<1.7,>=1.0 in /usr/local/lib/python3.10/dist-packages (from librosa) (1.6.0)\n",
            "Requirement already satisfied: soxr>=0.3.2 in /usr/local/lib/python3.10/dist-packages (from librosa) (0.3.5)\n",
            "Requirement already satisfied: typing-extensions>=4.1.1 in /usr/local/lib/python3.10/dist-packages (from librosa) (4.7.1)\n",
            "Requirement already satisfied: lazy-loader>=0.1 in /usr/local/lib/python3.10/dist-packages (from librosa) (0.3)\n",
            "Requirement already satisfied: msgpack>=1.0 in /usr/local/lib/python3.10/dist-packages (from librosa) (1.0.5)\n",
            "Requirement already satisfied: llvmlite<0.40,>=0.39.0dev0 in /usr/local/lib/python3.10/dist-packages (from numba>=0.51.0->librosa) (0.39.1)\n",
            "Requirement already satisfied: setuptools in /usr/local/lib/python3.10/dist-packages (from numba>=0.51.0->librosa) (65.5.1)\n",
            "Requirement already satisfied: appdirs>=1.3.0 in /usr/local/lib/python3.10/dist-packages (from pooch<1.7,>=1.0->librosa) (1.4.4)\n",
            "Requirement already satisfied: packaging>=20.0 in /usr/local/lib/python3.10/dist-packages (from pooch<1.7,>=1.0->librosa) (23.1)\n",
            "Requirement already satisfied: requests>=2.19.0 in /usr/local/lib/python3.10/dist-packages (from pooch<1.7,>=1.0->librosa) (2.31.0)\n",
            "Requirement already satisfied: threadpoolctl>=2.0.0 in /usr/local/lib/python3.10/dist-packages (from scikit-learn>=0.20.0->librosa) (3.2.0)\n",
            "Requirement already satisfied: cffi>=1.0 in /usr/local/lib/python3.10/dist-packages (from soundfile>=0.12.1->librosa) (1.15.1)\n",
            "Requirement already satisfied: pycparser in /usr/local/lib/python3.10/dist-packages (from cffi>=1.0->soundfile>=0.12.1->librosa) (2.21)\n",
            "Requirement already satisfied: charset-normalizer<4,>=2 in /usr/local/lib/python3.10/dist-packages (from requests>=2.19.0->pooch<1.7,>=1.0->librosa) (3.2.0)\n",
            "Requirement already satisfied: idna<4,>=2.5 in /usr/local/lib/python3.10/dist-packages (from requests>=2.19.0->pooch<1.7,>=1.0->librosa) (3.4)\n",
            "Requirement already satisfied: urllib3<3,>=1.21.1 in /usr/local/lib/python3.10/dist-packages (from requests>=2.19.0->pooch<1.7,>=1.0->librosa) (2.0.4)\n",
            "Requirement already satisfied: certifi>=2017.4.17 in /usr/local/lib/python3.10/dist-packages (from requests>=2.19.0->pooch<1.7,>=1.0->librosa) (2023.7.22)\n",
            "Requirement already satisfied: torchaudio in /usr/local/lib/python3.10/dist-packages (2.0.2+cu118)\n",
            "Requirement already satisfied: torch==2.0.1 in /usr/local/lib/python3.10/dist-packages (from torchaudio) (2.0.1+cu118)\n",
            "Requirement already satisfied: filelock in /usr/local/lib/python3.10/dist-packages (from torch==2.0.1->torchaudio) (3.12.2)\n",
            "Requirement already satisfied: typing-extensions in /usr/local/lib/python3.10/dist-packages (from torch==2.0.1->torchaudio) (4.7.1)\n",
            "Requirement already satisfied: sympy in /usr/local/lib/python3.10/dist-packages (from torch==2.0.1->torchaudio) (1.12)\n",
            "Requirement already satisfied: networkx in /usr/local/lib/python3.10/dist-packages (from torch==2.0.1->torchaudio) (3.1)\n",
            "Requirement already satisfied: jinja2 in /usr/local/lib/python3.10/dist-packages (from torch==2.0.1->torchaudio) (3.1.2)\n",
            "Requirement already satisfied: triton==2.0.0 in /usr/local/lib/python3.10/dist-packages (from torch==2.0.1->torchaudio) (2.0.0)\n",
            "Requirement already satisfied: cmake in /usr/local/lib/python3.10/dist-packages (from triton==2.0.0->torch==2.0.1->torchaudio) (3.27.1)\n",
            "Requirement already satisfied: lit in /usr/local/lib/python3.10/dist-packages (from triton==2.0.0->torch==2.0.1->torchaudio) (16.0.6)\n",
            "Requirement already satisfied: MarkupSafe>=2.0 in /usr/local/lib/python3.10/dist-packages (from jinja2->torch==2.0.1->torchaudio) (2.1.3)\n",
            "Requirement already satisfied: mpmath>=0.19 in /usr/local/lib/python3.10/dist-packages (from sympy->torch==2.0.1->torchaudio) (1.3.0)\n",
            "Requirement already satisfied: SoundFile in /usr/local/lib/python3.10/dist-packages (0.12.1)\n",
            "Requirement already satisfied: cffi>=1.0 in /usr/local/lib/python3.10/dist-packages (from SoundFile) (1.15.1)\n",
            "Requirement already satisfied: pycparser in /usr/local/lib/python3.10/dist-packages (from cffi>=1.0->SoundFile) (2.21)\n"
          ]
        }
      ],
      "source": [
        "!pip install librosa\n",
        "!pip install torchaudio\n",
        "!pip install SoundFile\n",
        "\n"
      ]
    },
    {
      "cell_type": "code",
      "execution_count": 37,
      "metadata": {
        "colab": {
          "base_uri": "https://localhost:8080/"
        },
        "id": "gTEnkBsTE890",
        "outputId": "c69271b8-b2ab-4bed-e91b-b006a52a0b6c"
      },
      "outputs": [
        {
          "output_type": "stream",
          "name": "stdout",
          "text": [
            "Requirement already satisfied: ijson in /usr/local/lib/python3.10/dist-packages (3.2.3)\n"
          ]
        }
      ],
      "source": [
        "!pip install ijson"
      ]
    },
    {
      "cell_type": "code",
      "execution_count": 38,
      "metadata": {
        "colab": {
          "base_uri": "https://localhost:8080/"
        },
        "id": "E3_kuhEgGwKO",
        "outputId": "0ba1e43d-5547-4132-bb88-cc041b78b766"
      },
      "outputs": [
        {
          "output_type": "stream",
          "name": "stdout",
          "text": [
            "Requirement already satisfied: sacremoses in /usr/local/lib/python3.10/dist-packages (0.0.53)\n",
            "Requirement already satisfied: regex in /usr/local/lib/python3.10/dist-packages (from sacremoses) (2023.6.3)\n",
            "Requirement already satisfied: six in /usr/local/lib/python3.10/dist-packages (from sacremoses) (1.16.0)\n",
            "Requirement already satisfied: click in /usr/local/lib/python3.10/dist-packages (from sacremoses) (8.1.6)\n",
            "Requirement already satisfied: joblib in /usr/local/lib/python3.10/dist-packages (from sacremoses) (1.3.2)\n",
            "Requirement already satisfied: tqdm in /usr/local/lib/python3.10/dist-packages (from sacremoses) (4.66.0)\n"
          ]
        }
      ],
      "source": [
        "!pip install sacremoses\n"
      ]
    },
    {
      "cell_type": "code",
      "execution_count": 39,
      "metadata": {
        "colab": {
          "base_uri": "https://localhost:8080/"
        },
        "id": "vkSgxidLHC_q",
        "outputId": "a73564e9-96b4-4ea9-d54f-2d8d45611d55"
      },
      "outputs": [
        {
          "output_type": "stream",
          "name": "stdout",
          "text": [
            "Requirement already satisfied: sacrebleu in /usr/local/lib/python3.10/dist-packages (2.3.1)\n",
            "Requirement already satisfied: portalocker in /usr/local/lib/python3.10/dist-packages (from sacrebleu) (2.7.0)\n",
            "Requirement already satisfied: regex in /usr/local/lib/python3.10/dist-packages (from sacrebleu) (2023.6.3)\n",
            "Requirement already satisfied: tabulate>=0.8.9 in /usr/local/lib/python3.10/dist-packages (from sacrebleu) (0.9.0)\n",
            "Requirement already satisfied: numpy>=1.17 in /usr/local/lib/python3.10/dist-packages (from sacrebleu) (1.23.5)\n",
            "Requirement already satisfied: colorama in /usr/local/lib/python3.10/dist-packages (from sacrebleu) (0.4.6)\n",
            "Requirement already satisfied: lxml in /usr/local/lib/python3.10/dist-packages (from sacrebleu) (4.9.3)\n",
            "Requirement already satisfied: einops in /usr/local/lib/python3.10/dist-packages (0.6.1)\n",
            "Requirement already satisfied: rouge-score in /usr/local/lib/python3.10/dist-packages (0.1.2)\n",
            "Requirement already satisfied: absl-py in /usr/local/lib/python3.10/dist-packages (from rouge-score) (1.4.0)\n",
            "Requirement already satisfied: nltk in /usr/local/lib/python3.10/dist-packages (from rouge-score) (3.8.1)\n",
            "Requirement already satisfied: numpy in /usr/local/lib/python3.10/dist-packages (from rouge-score) (1.23.5)\n",
            "Requirement already satisfied: six>=1.14.0 in /usr/local/lib/python3.10/dist-packages (from rouge-score) (1.16.0)\n",
            "Requirement already satisfied: click in /usr/local/lib/python3.10/dist-packages (from nltk->rouge-score) (8.1.6)\n",
            "Requirement already satisfied: joblib in /usr/local/lib/python3.10/dist-packages (from nltk->rouge-score) (1.3.2)\n",
            "Requirement already satisfied: regex>=2021.8.3 in /usr/local/lib/python3.10/dist-packages (from nltk->rouge-score) (2023.6.3)\n",
            "Requirement already satisfied: tqdm in /usr/local/lib/python3.10/dist-packages (from nltk->rouge-score) (4.66.0)\n",
            "Requirement already satisfied: opencc in /usr/local/lib/python3.10/dist-packages (1.1.6)\n"
          ]
        }
      ],
      "source": [
        "!pip install sacrebleu\n",
        "!pip install einops\n",
        "!pip install rouge-score\n",
        "!pip install opencc\n"
      ]
    },
    {
      "cell_type": "code",
      "execution_count": 40,
      "metadata": {
        "colab": {
          "base_uri": "https://localhost:8080/"
        },
        "id": "bWrCIUvpKusv",
        "outputId": "3cdac9b6-a872-478f-eea2-2898c8d7bb00"
      },
      "outputs": [
        {
          "output_type": "stream",
          "name": "stdout",
          "text": [
            "Requirement already satisfied: wandb in /usr/local/lib/python3.10/dist-packages (0.15.8)\n",
            "Requirement already satisfied: Click!=8.0.0,>=7.1 in /usr/local/lib/python3.10/dist-packages (from wandb) (8.1.6)\n",
            "Requirement already satisfied: GitPython!=3.1.29,>=1.0.0 in /usr/local/lib/python3.10/dist-packages (from wandb) (3.1.32)\n",
            "Requirement already satisfied: requests<3,>=2.0.0 in /usr/local/lib/python3.10/dist-packages (from wandb) (2.31.0)\n",
            "Requirement already satisfied: psutil>=5.0.0 in /usr/local/lib/python3.10/dist-packages (from wandb) (5.9.5)\n",
            "Requirement already satisfied: sentry-sdk>=1.0.0 in /usr/local/lib/python3.10/dist-packages (from wandb) (1.29.2)\n",
            "Requirement already satisfied: docker-pycreds>=0.4.0 in /usr/local/lib/python3.10/dist-packages (from wandb) (0.4.0)\n",
            "Requirement already satisfied: PyYAML in /usr/local/lib/python3.10/dist-packages (from wandb) (6.0.1)\n",
            "Requirement already satisfied: pathtools in /usr/local/lib/python3.10/dist-packages (from wandb) (0.1.2)\n",
            "Requirement already satisfied: setproctitle in /usr/local/lib/python3.10/dist-packages (from wandb) (1.3.2)\n",
            "Requirement already satisfied: setuptools in /usr/local/lib/python3.10/dist-packages (from wandb) (65.5.1)\n",
            "Requirement already satisfied: appdirs>=1.4.3 in /usr/local/lib/python3.10/dist-packages (from wandb) (1.4.4)\n",
            "Requirement already satisfied: protobuf!=4.21.0,<5,>=3.19.0 in /usr/local/lib/python3.10/dist-packages (from wandb) (3.20.3)\n",
            "Requirement already satisfied: six>=1.4.0 in /usr/local/lib/python3.10/dist-packages (from docker-pycreds>=0.4.0->wandb) (1.16.0)\n",
            "Requirement already satisfied: gitdb<5,>=4.0.1 in /usr/local/lib/python3.10/dist-packages (from GitPython!=3.1.29,>=1.0.0->wandb) (4.0.10)\n",
            "Requirement already satisfied: charset-normalizer<4,>=2 in /usr/local/lib/python3.10/dist-packages (from requests<3,>=2.0.0->wandb) (3.2.0)\n",
            "Requirement already satisfied: idna<4,>=2.5 in /usr/local/lib/python3.10/dist-packages (from requests<3,>=2.0.0->wandb) (3.4)\n",
            "Requirement already satisfied: urllib3<3,>=1.21.1 in /usr/local/lib/python3.10/dist-packages (from requests<3,>=2.0.0->wandb) (2.0.4)\n",
            "Requirement already satisfied: certifi>=2017.4.17 in /usr/local/lib/python3.10/dist-packages (from requests<3,>=2.0.0->wandb) (2023.7.22)\n",
            "Requirement already satisfied: smmap<6,>=3.0.1 in /usr/local/lib/python3.10/dist-packages (from gitdb<5,>=4.0.1->GitPython!=3.1.29,>=1.0.0->wandb) (5.0.0)\n",
            "Requirement already satisfied: pangu in /usr/local/lib/python3.10/dist-packages (4.0.6.1)\n"
          ]
        }
      ],
      "source": [
        "!pip install wandb\n",
        "!pip install pangu"
      ]
    },
    {
      "cell_type": "code",
      "execution_count": 41,
      "metadata": {
        "colab": {
          "base_uri": "https://localhost:8080/"
        },
        "id": "7iBLyD2rKWc8",
        "outputId": "b09ffd2d-b76a-4b12-a4c6-342fb7e72b4d"
      },
      "outputs": [
        {
          "output_type": "stream",
          "name": "stdout",
          "text": [
            "Requirement already satisfied: opencc-python-reimplemented in /usr/local/lib/python3.10/dist-packages (0.1.7)\n"
          ]
        }
      ],
      "source": [
        "!pip install opencc-python-reimplemented\n"
      ]
    },
    {
      "cell_type": "code",
      "execution_count": 42,
      "metadata": {
        "colab": {
          "base_uri": "https://localhost:8080/"
        },
        "id": "z4KYdgN0K-pE",
        "outputId": "3e760fd3-e1dd-45a3-f074-5730e98d85ef"
      },
      "outputs": [
        {
          "output_type": "stream",
          "name": "stdout",
          "text": [
            "Requirement already satisfied: unidic-lite in /usr/local/lib/python3.10/dist-packages (1.0.8)\n"
          ]
        }
      ],
      "source": [
        "!pip install unidic-lite"
      ]
    },
    {
      "cell_type": "code",
      "execution_count": 43,
      "metadata": {
        "id": "MYqSaMIF-Q8Z"
      },
      "outputs": [],
      "source": [
        "import nemo"
      ]
    },
    {
      "cell_type": "code",
      "execution_count": 44,
      "metadata": {
        "id": "_ZEa6vrtCeX5"
      },
      "outputs": [],
      "source": [
        "import numpy as np\n"
      ]
    },
    {
      "cell_type": "code",
      "execution_count": 45,
      "metadata": {
        "colab": {
          "base_uri": "https://localhost:8080/"
        },
        "id": "3Tps8EXk-p1a",
        "outputId": "f8db4a2e-8255-43a9-c8cb-fdc006da3098"
      },
      "outputs": [
        {
          "output_type": "stream",
          "name": "stdout",
          "text": [
            "Requirement already satisfied: ipadic in /usr/local/lib/python3.10/dist-packages (1.0.0)\n"
          ]
        }
      ],
      "source": [
        "!pip install ipadic"
      ]
    },
    {
      "cell_type": "code",
      "execution_count": 46,
      "metadata": {
        "id": "dyLT2hDgM3_K",
        "colab": {
          "base_uri": "https://localhost:8080/"
        },
        "outputId": "c1a8f8be-dc15-47b1-d1c8-3d2b528e3c41"
      },
      "outputs": [
        {
          "output_type": "stream",
          "name": "stdout",
          "text": [
            "Reading package lists... Done\n",
            "Building dependency tree... Done\n",
            "Reading state information... Done\n",
            "libmecab-dev is already the newest version (0.996-14build9).\n",
            "mecab-ipadic-utf8 is already the newest version (2.7.0-20070801+main-3).\n",
            "mecab is already the newest version (0.996-14build9).\n",
            "0 upgraded, 0 newly installed, 0 to remove and 16 not upgraded.\n"
          ]
        }
      ],
      "source": [
        "!apt-get install -y mecab libmecab-dev mecab-ipadic-utf8\n",
        "\n"
      ]
    },
    {
      "cell_type": "code",
      "execution_count": 47,
      "metadata": {
        "id": "z08bacskM-_5",
        "colab": {
          "base_uri": "https://localhost:8080/"
        },
        "outputId": "99a49570-cf5b-420f-9342-66b942a30737"
      },
      "outputs": [
        {
          "output_type": "stream",
          "name": "stdout",
          "text": [
            "Requirement already satisfied: mecab-python3 in /usr/local/lib/python3.10/dist-packages (1.0.6)\n"
          ]
        }
      ],
      "source": [
        "!pip install mecab-python3\n"
      ]
    },
    {
      "cell_type": "code",
      "execution_count": 47,
      "metadata": {
        "id": "r8RdWlUlZ-ft"
      },
      "outputs": [],
      "source": []
    },
    {
      "cell_type": "code",
      "execution_count": 48,
      "metadata": {
        "colab": {
          "base_uri": "https://localhost:8080/"
        },
        "id": "A4Y1t1fTaQAx",
        "outputId": "159f50f8-8372-47af-fc6e-3f757f5b5131"
      },
      "outputs": [
        {
          "output_type": "stream",
          "name": "stdout",
          "text": [
            "Requirement already satisfied: pytorch_lightning==2.0 in /usr/local/lib/python3.10/dist-packages (2.0.0)\n",
            "Requirement already satisfied: numpy>=1.17.2 in /usr/local/lib/python3.10/dist-packages (from pytorch_lightning==2.0) (1.23.5)\n",
            "Requirement already satisfied: torch>=1.11.0 in /usr/local/lib/python3.10/dist-packages (from pytorch_lightning==2.0) (2.0.1+cu118)\n",
            "Requirement already satisfied: tqdm>=4.57.0 in /usr/local/lib/python3.10/dist-packages (from pytorch_lightning==2.0) (4.66.0)\n",
            "Requirement already satisfied: PyYAML>=5.4 in /usr/local/lib/python3.10/dist-packages (from pytorch_lightning==2.0) (6.0.1)\n",
            "Requirement already satisfied: fsspec[http]>2021.06.0 in /usr/local/lib/python3.10/dist-packages (from pytorch_lightning==2.0) (2023.6.0)\n",
            "Requirement already satisfied: torchmetrics>=0.7.0 in /usr/local/lib/python3.10/dist-packages (from pytorch_lightning==2.0) (1.0.3)\n",
            "Requirement already satisfied: packaging>=17.1 in /usr/local/lib/python3.10/dist-packages (from pytorch_lightning==2.0) (23.1)\n",
            "Requirement already satisfied: typing-extensions>=4.0.0 in /usr/local/lib/python3.10/dist-packages (from pytorch_lightning==2.0) (4.7.1)\n",
            "Requirement already satisfied: lightning-utilities>=0.7.0 in /usr/local/lib/python3.10/dist-packages (from pytorch_lightning==2.0) (0.9.0)\n",
            "Requirement already satisfied: requests in /usr/local/lib/python3.10/dist-packages (from fsspec[http]>2021.06.0->pytorch_lightning==2.0) (2.31.0)\n",
            "Requirement already satisfied: aiohttp!=4.0.0a0,!=4.0.0a1 in /usr/local/lib/python3.10/dist-packages (from fsspec[http]>2021.06.0->pytorch_lightning==2.0) (3.8.5)\n",
            "Requirement already satisfied: filelock in /usr/local/lib/python3.10/dist-packages (from torch>=1.11.0->pytorch_lightning==2.0) (3.12.2)\n",
            "Requirement already satisfied: sympy in /usr/local/lib/python3.10/dist-packages (from torch>=1.11.0->pytorch_lightning==2.0) (1.12)\n",
            "Requirement already satisfied: networkx in /usr/local/lib/python3.10/dist-packages (from torch>=1.11.0->pytorch_lightning==2.0) (3.1)\n",
            "Requirement already satisfied: jinja2 in /usr/local/lib/python3.10/dist-packages (from torch>=1.11.0->pytorch_lightning==2.0) (3.1.2)\n",
            "Requirement already satisfied: triton==2.0.0 in /usr/local/lib/python3.10/dist-packages (from torch>=1.11.0->pytorch_lightning==2.0) (2.0.0)\n",
            "Requirement already satisfied: cmake in /usr/local/lib/python3.10/dist-packages (from triton==2.0.0->torch>=1.11.0->pytorch_lightning==2.0) (3.27.1)\n",
            "Requirement already satisfied: lit in /usr/local/lib/python3.10/dist-packages (from triton==2.0.0->torch>=1.11.0->pytorch_lightning==2.0) (16.0.6)\n",
            "Requirement already satisfied: attrs>=17.3.0 in /usr/local/lib/python3.10/dist-packages (from aiohttp!=4.0.0a0,!=4.0.0a1->fsspec[http]>2021.06.0->pytorch_lightning==2.0) (23.1.0)\n",
            "Requirement already satisfied: charset-normalizer<4.0,>=2.0 in /usr/local/lib/python3.10/dist-packages (from aiohttp!=4.0.0a0,!=4.0.0a1->fsspec[http]>2021.06.0->pytorch_lightning==2.0) (3.2.0)\n",
            "Requirement already satisfied: multidict<7.0,>=4.5 in /usr/local/lib/python3.10/dist-packages (from aiohttp!=4.0.0a0,!=4.0.0a1->fsspec[http]>2021.06.0->pytorch_lightning==2.0) (6.0.4)\n",
            "Requirement already satisfied: async-timeout<5.0,>=4.0.0a3 in /usr/local/lib/python3.10/dist-packages (from aiohttp!=4.0.0a0,!=4.0.0a1->fsspec[http]>2021.06.0->pytorch_lightning==2.0) (4.0.2)\n",
            "Requirement already satisfied: yarl<2.0,>=1.0 in /usr/local/lib/python3.10/dist-packages (from aiohttp!=4.0.0a0,!=4.0.0a1->fsspec[http]>2021.06.0->pytorch_lightning==2.0) (1.9.2)\n",
            "Requirement already satisfied: frozenlist>=1.1.1 in /usr/local/lib/python3.10/dist-packages (from aiohttp!=4.0.0a0,!=4.0.0a1->fsspec[http]>2021.06.0->pytorch_lightning==2.0) (1.4.0)\n",
            "Requirement already satisfied: aiosignal>=1.1.2 in /usr/local/lib/python3.10/dist-packages (from aiohttp!=4.0.0a0,!=4.0.0a1->fsspec[http]>2021.06.0->pytorch_lightning==2.0) (1.3.1)\n",
            "Requirement already satisfied: MarkupSafe>=2.0 in /usr/local/lib/python3.10/dist-packages (from jinja2->torch>=1.11.0->pytorch_lightning==2.0) (2.1.3)\n",
            "Requirement already satisfied: idna<4,>=2.5 in /usr/local/lib/python3.10/dist-packages (from requests->fsspec[http]>2021.06.0->pytorch_lightning==2.0) (3.4)\n",
            "Requirement already satisfied: urllib3<3,>=1.21.1 in /usr/local/lib/python3.10/dist-packages (from requests->fsspec[http]>2021.06.0->pytorch_lightning==2.0) (2.0.4)\n",
            "Requirement already satisfied: certifi>=2017.4.17 in /usr/local/lib/python3.10/dist-packages (from requests->fsspec[http]>2021.06.0->pytorch_lightning==2.0) (2023.7.22)\n",
            "Requirement already satisfied: mpmath>=0.19 in /usr/local/lib/python3.10/dist-packages (from sympy->torch>=1.11.0->pytorch_lightning==2.0) (1.3.0)\n"
          ]
        }
      ],
      "source": [
        "!pip install pytorch_lightning==2.0\n"
      ]
    },
    {
      "cell_type": "code",
      "execution_count": 49,
      "metadata": {
        "id": "ypcPXku9CmgZ"
      },
      "outputs": [],
      "source": [
        "import nemo.collections.asr as nemo_asr\n"
      ]
    },
    {
      "cell_type": "code",
      "execution_count": 50,
      "metadata": {
        "id": "zCk9jRbYejmC",
        "colab": {
          "base_uri": "https://localhost:8080/"
        },
        "outputId": "1a4497c8-0bb1-49a4-bd83-54e1ca8b6cf2"
      },
      "outputs": [
        {
          "output_type": "stream",
          "name": "stdout",
          "text": [
            "Requirement already satisfied: nemo-toolkit in /usr/local/lib/python3.10/dist-packages (1.21.0rc0)\n",
            "Requirement already satisfied: huggingface-hub in /usr/local/lib/python3.10/dist-packages (from nemo-toolkit) (0.16.4)\n",
            "Requirement already satisfied: numba in /usr/local/lib/python3.10/dist-packages (from nemo-toolkit) (0.56.4)\n",
            "Requirement already satisfied: numpy<1.24,>=1.22 in /usr/local/lib/python3.10/dist-packages (from nemo-toolkit) (1.23.5)\n",
            "Requirement already satisfied: onnx>=1.7.0 in /usr/local/lib/python3.10/dist-packages (from nemo-toolkit) (1.14.0)\n",
            "Requirement already satisfied: python-dateutil in /usr/local/lib/python3.10/dist-packages (from nemo-toolkit) (2.8.2)\n",
            "Requirement already satisfied: ruamel.yaml in /usr/local/lib/python3.10/dist-packages (from nemo-toolkit) (0.17.32)\n",
            "Requirement already satisfied: scikit-learn in /usr/local/lib/python3.10/dist-packages (from nemo-toolkit) (1.2.2)\n",
            "Requirement already satisfied: setuptools==65.5.1 in /usr/local/lib/python3.10/dist-packages (from nemo-toolkit) (65.5.1)\n",
            "Requirement already satisfied: tensorboard in /usr/local/lib/python3.10/dist-packages (from nemo-toolkit) (2.12.3)\n",
            "Requirement already satisfied: text-unidecode in /usr/local/lib/python3.10/dist-packages (from nemo-toolkit) (1.3)\n",
            "Requirement already satisfied: torch in /usr/local/lib/python3.10/dist-packages (from nemo-toolkit) (2.0.1+cu118)\n",
            "Requirement already satisfied: tqdm>=4.41.0 in /usr/local/lib/python3.10/dist-packages (from nemo-toolkit) (4.66.0)\n",
            "Requirement already satisfied: wget in /usr/local/lib/python3.10/dist-packages (from nemo-toolkit) (3.2)\n",
            "Requirement already satisfied: wrapt in /usr/local/lib/python3.10/dist-packages (from nemo-toolkit) (1.14.1)\n",
            "Requirement already satisfied: protobuf>=3.20.2 in /usr/local/lib/python3.10/dist-packages (from onnx>=1.7.0->nemo-toolkit) (3.20.3)\n",
            "Requirement already satisfied: typing-extensions>=3.6.2.1 in /usr/local/lib/python3.10/dist-packages (from onnx>=1.7.0->nemo-toolkit) (4.7.1)\n",
            "Requirement already satisfied: filelock in /usr/local/lib/python3.10/dist-packages (from huggingface-hub->nemo-toolkit) (3.12.2)\n",
            "Requirement already satisfied: fsspec in /usr/local/lib/python3.10/dist-packages (from huggingface-hub->nemo-toolkit) (2023.6.0)\n",
            "Requirement already satisfied: requests in /usr/local/lib/python3.10/dist-packages (from huggingface-hub->nemo-toolkit) (2.31.0)\n",
            "Requirement already satisfied: pyyaml>=5.1 in /usr/local/lib/python3.10/dist-packages (from huggingface-hub->nemo-toolkit) (6.0.1)\n",
            "Requirement already satisfied: packaging>=20.9 in /usr/local/lib/python3.10/dist-packages (from huggingface-hub->nemo-toolkit) (23.1)\n",
            "Requirement already satisfied: llvmlite<0.40,>=0.39.0dev0 in /usr/local/lib/python3.10/dist-packages (from numba->nemo-toolkit) (0.39.1)\n",
            "Requirement already satisfied: six>=1.5 in /usr/local/lib/python3.10/dist-packages (from python-dateutil->nemo-toolkit) (1.16.0)\n",
            "Requirement already satisfied: ruamel.yaml.clib>=0.2.7 in /usr/local/lib/python3.10/dist-packages (from ruamel.yaml->nemo-toolkit) (0.2.7)\n",
            "Requirement already satisfied: scipy>=1.3.2 in /usr/local/lib/python3.10/dist-packages (from scikit-learn->nemo-toolkit) (1.10.1)\n",
            "Requirement already satisfied: joblib>=1.1.1 in /usr/local/lib/python3.10/dist-packages (from scikit-learn->nemo-toolkit) (1.3.2)\n",
            "Requirement already satisfied: threadpoolctl>=2.0.0 in /usr/local/lib/python3.10/dist-packages (from scikit-learn->nemo-toolkit) (3.2.0)\n",
            "Requirement already satisfied: absl-py>=0.4 in /usr/local/lib/python3.10/dist-packages (from tensorboard->nemo-toolkit) (1.4.0)\n",
            "Requirement already satisfied: grpcio>=1.48.2 in /usr/local/lib/python3.10/dist-packages (from tensorboard->nemo-toolkit) (1.56.2)\n",
            "Requirement already satisfied: google-auth<3,>=1.6.3 in /usr/local/lib/python3.10/dist-packages (from tensorboard->nemo-toolkit) (2.17.3)\n",
            "Requirement already satisfied: google-auth-oauthlib<1.1,>=0.5 in /usr/local/lib/python3.10/dist-packages (from tensorboard->nemo-toolkit) (1.0.0)\n",
            "Requirement already satisfied: markdown>=2.6.8 in /usr/local/lib/python3.10/dist-packages (from tensorboard->nemo-toolkit) (3.4.4)\n",
            "Requirement already satisfied: tensorboard-data-server<0.8.0,>=0.7.0 in /usr/local/lib/python3.10/dist-packages (from tensorboard->nemo-toolkit) (0.7.1)\n",
            "Requirement already satisfied: werkzeug>=1.0.1 in /usr/local/lib/python3.10/dist-packages (from tensorboard->nemo-toolkit) (2.3.6)\n",
            "Requirement already satisfied: wheel>=0.26 in /usr/local/lib/python3.10/dist-packages (from tensorboard->nemo-toolkit) (0.41.1)\n",
            "Requirement already satisfied: sympy in /usr/local/lib/python3.10/dist-packages (from torch->nemo-toolkit) (1.12)\n",
            "Requirement already satisfied: networkx in /usr/local/lib/python3.10/dist-packages (from torch->nemo-toolkit) (3.1)\n",
            "Requirement already satisfied: jinja2 in /usr/local/lib/python3.10/dist-packages (from torch->nemo-toolkit) (3.1.2)\n",
            "Requirement already satisfied: triton==2.0.0 in /usr/local/lib/python3.10/dist-packages (from torch->nemo-toolkit) (2.0.0)\n",
            "Requirement already satisfied: cmake in /usr/local/lib/python3.10/dist-packages (from triton==2.0.0->torch->nemo-toolkit) (3.27.1)\n",
            "Requirement already satisfied: lit in /usr/local/lib/python3.10/dist-packages (from triton==2.0.0->torch->nemo-toolkit) (16.0.6)\n",
            "Requirement already satisfied: cachetools<6.0,>=2.0.0 in /usr/local/lib/python3.10/dist-packages (from google-auth<3,>=1.6.3->tensorboard->nemo-toolkit) (5.3.1)\n",
            "Requirement already satisfied: pyasn1-modules>=0.2.1 in /usr/local/lib/python3.10/dist-packages (from google-auth<3,>=1.6.3->tensorboard->nemo-toolkit) (0.3.0)\n",
            "Requirement already satisfied: rsa<5,>=3.1.4 in /usr/local/lib/python3.10/dist-packages (from google-auth<3,>=1.6.3->tensorboard->nemo-toolkit) (4.9)\n",
            "Requirement already satisfied: requests-oauthlib>=0.7.0 in /usr/local/lib/python3.10/dist-packages (from google-auth-oauthlib<1.1,>=0.5->tensorboard->nemo-toolkit) (1.3.1)\n",
            "Requirement already satisfied: charset-normalizer<4,>=2 in /usr/local/lib/python3.10/dist-packages (from requests->huggingface-hub->nemo-toolkit) (3.2.0)\n",
            "Requirement already satisfied: idna<4,>=2.5 in /usr/local/lib/python3.10/dist-packages (from requests->huggingface-hub->nemo-toolkit) (3.4)\n",
            "Requirement already satisfied: urllib3<3,>=1.21.1 in /usr/local/lib/python3.10/dist-packages (from requests->huggingface-hub->nemo-toolkit) (2.0.4)\n",
            "Requirement already satisfied: certifi>=2017.4.17 in /usr/local/lib/python3.10/dist-packages (from requests->huggingface-hub->nemo-toolkit) (2023.7.22)\n",
            "Requirement already satisfied: MarkupSafe>=2.1.1 in /usr/local/lib/python3.10/dist-packages (from werkzeug>=1.0.1->tensorboard->nemo-toolkit) (2.1.3)\n",
            "Requirement already satisfied: mpmath>=0.19 in /usr/local/lib/python3.10/dist-packages (from sympy->torch->nemo-toolkit) (1.3.0)\n",
            "Requirement already satisfied: pyasn1<0.6.0,>=0.4.6 in /usr/local/lib/python3.10/dist-packages (from pyasn1-modules>=0.2.1->google-auth<3,>=1.6.3->tensorboard->nemo-toolkit) (0.5.0)\n",
            "Requirement already satisfied: oauthlib>=3.0.0 in /usr/local/lib/python3.10/dist-packages (from requests-oauthlib>=0.7.0->google-auth-oauthlib<1.1,>=0.5->tensorboard->nemo-toolkit) (3.2.2)\n"
          ]
        }
      ],
      "source": [
        "!pip install nemo-toolkit\n"
      ]
    },
    {
      "cell_type": "code",
      "execution_count": 51,
      "metadata": {
        "id": "8fa0ZjRCbXnG",
        "colab": {
          "base_uri": "https://localhost:8080/"
        },
        "outputId": "483854df-9edc-48c6-f140-8be2b3c5974b"
      },
      "outputs": [
        {
          "output_type": "stream",
          "name": "stdout",
          "text": [
            "Requirement already satisfied: torchmetrics in /usr/local/lib/python3.10/dist-packages (1.0.3)\n",
            "Requirement already satisfied: numpy>1.20.0 in /usr/local/lib/python3.10/dist-packages (from torchmetrics) (1.23.5)\n",
            "Requirement already satisfied: torch>=1.8.1 in /usr/local/lib/python3.10/dist-packages (from torchmetrics) (2.0.1+cu118)\n",
            "Requirement already satisfied: packaging in /usr/local/lib/python3.10/dist-packages (from torchmetrics) (23.1)\n",
            "Requirement already satisfied: lightning-utilities>=0.7.0 in /usr/local/lib/python3.10/dist-packages (from torchmetrics) (0.9.0)\n",
            "Requirement already satisfied: typing-extensions in /usr/local/lib/python3.10/dist-packages (from lightning-utilities>=0.7.0->torchmetrics) (4.7.1)\n",
            "Requirement already satisfied: filelock in /usr/local/lib/python3.10/dist-packages (from torch>=1.8.1->torchmetrics) (3.12.2)\n",
            "Requirement already satisfied: sympy in /usr/local/lib/python3.10/dist-packages (from torch>=1.8.1->torchmetrics) (1.12)\n",
            "Requirement already satisfied: networkx in /usr/local/lib/python3.10/dist-packages (from torch>=1.8.1->torchmetrics) (3.1)\n",
            "Requirement already satisfied: jinja2 in /usr/local/lib/python3.10/dist-packages (from torch>=1.8.1->torchmetrics) (3.1.2)\n",
            "Requirement already satisfied: triton==2.0.0 in /usr/local/lib/python3.10/dist-packages (from torch>=1.8.1->torchmetrics) (2.0.0)\n",
            "Requirement already satisfied: cmake in /usr/local/lib/python3.10/dist-packages (from triton==2.0.0->torch>=1.8.1->torchmetrics) (3.27.1)\n",
            "Requirement already satisfied: lit in /usr/local/lib/python3.10/dist-packages (from triton==2.0.0->torch>=1.8.1->torchmetrics) (16.0.6)\n",
            "Requirement already satisfied: MarkupSafe>=2.0 in /usr/local/lib/python3.10/dist-packages (from jinja2->torch>=1.8.1->torchmetrics) (2.1.3)\n",
            "Requirement already satisfied: mpmath>=0.19 in /usr/local/lib/python3.10/dist-packages (from sympy->torch>=1.8.1->torchmetrics) (1.3.0)\n"
          ]
        }
      ],
      "source": [
        "!pip install torchmetrics\n",
        "\n"
      ]
    },
    {
      "cell_type": "code",
      "execution_count": 52,
      "metadata": {
        "id": "Z7uPM7HmCnn5"
      },
      "outputs": [],
      "source": [
        "import nemo.collections.nlp as nemo_nlp\n"
      ]
    },
    {
      "cell_type": "code",
      "execution_count": 53,
      "metadata": {
        "id": "mKVBEkxdG6Hs"
      },
      "outputs": [],
      "source": [
        "\n",
        "import nemo.collections.tts as nemo_tts\n",
        "import IPython"
      ]
    },
    {
      "cell_type": "code",
      "execution_count": 55,
      "metadata": {
        "id": "uIroHWQfJ5bn",
        "colab": {
          "base_uri": "https://localhost:8080/",
          "height": 75
        },
        "outputId": "58e91847-9389-414a-a4c8-298ae48c3093"
      },
      "outputs": [
        {
          "output_type": "execute_result",
          "data": {
            "text/plain": [
              "<IPython.lib.display.Audio object>"
            ],
            "text/html": [
              "\n",
              "                <audio  controls=\"controls\" >\n",
              "                    <source src=\"data:audio/x-wav;base64,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\" type=\"audio/x-wav\" />\n",
              "                    Your browser does not support the audio element.\n",
              "                </audio>\n",
              "              "
            ]
          },
          "metadata": {},
          "execution_count": 55
        }
      ],
      "source": [
        "audio_sample = \"do-you-like-it.wav\"\n",
        "IPython.display.Audio(filename = audio_sample)"
      ]
    },
    {
      "cell_type": "code",
      "execution_count": 56,
      "metadata": {
        "id": "A-xMu_7lPLZ0",
        "colab": {
          "base_uri": "https://localhost:8080/"
        },
        "outputId": "9dede870-036e-4b7b-cb8c-c71627a76767"
      },
      "outputs": [
        {
          "output_type": "stream",
          "name": "stdout",
          "text": [
            "[NeMo I 2023-08-13 12:29:02 cloud:68] Downloading from: https://api.ngc.nvidia.com/v2/models/nvidia/nemo/stt_en_quartznet15x5/versions/1.0.0rc1/files/stt_en_quartznet15x5.nemo to /root/.cache/torch/NeMo/NeMo_1.21.0rc0/stt_en_quartznet15x5/16661021d16e679bdfd97a2a03944c49/stt_en_quartznet15x5.nemo\n",
            "[NeMo I 2023-08-13 12:29:09 common:913] Instantiating model from pre-trained checkpoint\n"
          ]
        },
        {
          "output_type": "stream",
          "name": "stderr",
          "text": [
            "[NeMo W 2023-08-13 12:29:10 modelPT:161] If you intend to do training or fine-tuning, please call the ModelPT.setup_training_data() method and provide a valid configuration file to setup the train data loader.\n",
            "    Train config : \n",
            "    manifest_filepath: /data2/voices/train_1k.json\n",
            "    sample_rate: 16000\n",
            "    labels:\n",
            "    - ' '\n",
            "    - a\n",
            "    - b\n",
            "    - c\n",
            "    - d\n",
            "    - e\n",
            "    - f\n",
            "    - g\n",
            "    - h\n",
            "    - i\n",
            "    - j\n",
            "    - k\n",
            "    - l\n",
            "    - m\n",
            "    - 'n'\n",
            "    - o\n",
            "    - p\n",
            "    - q\n",
            "    - r\n",
            "    - s\n",
            "    - t\n",
            "    - u\n",
            "    - v\n",
            "    - w\n",
            "    - x\n",
            "    - 'y'\n",
            "    - z\n",
            "    - ''''\n",
            "    batch_size: 32\n",
            "    trim_silence: true\n",
            "    max_duration: 16.7\n",
            "    shuffle: true\n",
            "    is_tarred: false\n",
            "    tarred_audio_filepaths: /asr_set_1.2/train/train_{0..1023}.tar\n",
            "    num_workers: 20\n",
            "    \n",
            "[NeMo W 2023-08-13 12:29:10 modelPT:168] If you intend to do validation, please call the ModelPT.setup_validation_data() or ModelPT.setup_multiple_validation_data() method and provide a valid configuration file to setup the validation data loader(s). \n",
            "    Validation config : \n",
            "    manifest_filepath: /data2/voices/train_1k_samp.json\n",
            "    sample_rate: 16000\n",
            "    labels:\n",
            "    - ' '\n",
            "    - a\n",
            "    - b\n",
            "    - c\n",
            "    - d\n",
            "    - e\n",
            "    - f\n",
            "    - g\n",
            "    - h\n",
            "    - i\n",
            "    - j\n",
            "    - k\n",
            "    - l\n",
            "    - m\n",
            "    - 'n'\n",
            "    - o\n",
            "    - p\n",
            "    - q\n",
            "    - r\n",
            "    - s\n",
            "    - t\n",
            "    - u\n",
            "    - v\n",
            "    - w\n",
            "    - x\n",
            "    - 'y'\n",
            "    - z\n",
            "    - ''''\n",
            "    batch_size: 32\n",
            "    shuffle: false\n",
            "    \n"
          ]
        },
        {
          "output_type": "stream",
          "name": "stdout",
          "text": [
            "[NeMo I 2023-08-13 12:29:10 features:289] PADDING: 16\n",
            "[NeMo I 2023-08-13 12:29:11 save_restore_connector:249] Model EncDecCTCModel was successfully restored from /root/.cache/torch/NeMo/NeMo_1.21.0rc0/stt_en_quartznet15x5/16661021d16e679bdfd97a2a03944c49/stt_en_quartznet15x5.nemo.\n"
          ]
        }
      ],
      "source": [
        "model = nemo_asr.models.EncDecCTCModel.from_pretrained(model_name = \"stt_en_quartznet15x5\").cuda()\n"
      ]
    },
    {
      "cell_type": "code",
      "source": [
        "from pydub import AudioSegment\n",
        "audio = AudioSegment.from_wav(\"do-you-like-it.wav\")"
      ],
      "metadata": {
        "id": "lQ5fW41f5jRF"
      },
      "execution_count": 60,
      "outputs": []
    },
    {
      "cell_type": "code",
      "source": [
        "audio_mono = audio.set_channels(1)\n",
        "audio_mono"
      ],
      "metadata": {
        "colab": {
          "base_uri": "https://localhost:8080/",
          "height": 75
        },
        "id": "HaO5s6hP58-v",
        "outputId": "320c647e-6d39-402c-aabb-74c64d1f4b0e"
      },
      "execution_count": 61,
      "outputs": [
        {
          "output_type": "execute_result",
          "data": {
            "text/plain": [
              "<pydub.audio_segment.AudioSegment at 0x7ba0aed229e0>"
            ],
            "text/html": [
              "\n",
              "                    <audio controls>\n",
              "                        <source src=\"data:audio/mpeg;base64,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\" type=\"audio/mpeg\"/>\n",
              "                        Your browser does not support the audio element.\n",
              "                    </audio>\n",
              "                  "
            ]
          },
          "metadata": {},
          "execution_count": 61
        }
      ]
    },
    {
      "cell_type": "code",
      "execution_count": 64,
      "metadata": {
        "id": "ygyzczvMT9jy",
        "colab": {
          "base_uri": "https://localhost:8080/",
          "height": 67,
          "referenced_widgets": [
            "1ec1be882a814de0b11d912b0931923a",
            "b50b972f2bc44ea28df25859bc58d354",
            "59da1761f0924609a05d3b38b9e3a3d1",
            "086d29fd593d4c9f8e6fbe1f2549c81c",
            "2173bb84dd984c17b048c478e5d21423",
            "5ee2d74cad934a56bb6641e8dd655e6b",
            "523c859472f44539a945b6f92cc40f03",
            "52f36a99a17f4e5289aa18de3025cbb7",
            "1c7de7e6370f4b1abf3483b5eb8fb862",
            "d6a601c961564b95a2952ceb79342b63",
            "b1ef8afb47274a9d9bdd0617fbb2ff54"
          ]
        },
        "outputId": "848b4294-60c0-45c3-adf4-b505d9134fa9"
      },
      "outputs": [
        {
          "output_type": "display_data",
          "data": {
            "text/plain": [
              "Transcribing:   0%|          | 0/1 [00:00<?, ?it/s]"
            ],
            "application/vnd.jupyter.widget-view+json": {
              "version_major": 2,
              "version_minor": 0,
              "model_id": "1ec1be882a814de0b11d912b0931923a"
            }
          },
          "metadata": {}
        },
        {
          "output_type": "stream",
          "name": "stdout",
          "text": [
            "do you like it\n"
          ]
        }
      ],
      "source": [
        "audio_mono.export(\"do-you-like-it-mono.wav\", format = \"wav\")\n",
        "audio_file = \"do-you-like-it-mono.wav\"\n",
        "transcription = model.transcribe(paths2audio_files=[audio_file])[0]\n",
        "print(transcription)"
      ]
    },
    {
      "cell_type": "code",
      "source": [],
      "metadata": {
        "id": "Pkmp3pbR58HK"
      },
      "execution_count": null,
      "outputs": []
    },
    {
      "cell_type": "code",
      "execution_count": null,
      "metadata": {
        "id": "9no613hFS5CK"
      },
      "outputs": [],
      "source": []
    }
  ],
  "metadata": {
    "accelerator": "GPU",
    "colab": {
      "machine_shape": "hm",
      "provenance": [],
      "gpuType": "T4"
    },
    "kernelspec": {
      "display_name": "Python 3",
      "name": "python3"
    },
    "language_info": {
      "name": "python"
    },
    "widgets": {
      "application/vnd.jupyter.widget-state+json": {
        "1ec1be882a814de0b11d912b0931923a": {
          "model_module": "@jupyter-widgets/controls",
          "model_name": "HBoxModel",
          "model_module_version": "1.5.0",
          "state": {
            "_dom_classes": [],
            "_model_module": "@jupyter-widgets/controls",
            "_model_module_version": "1.5.0",
            "_model_name": "HBoxModel",
            "_view_count": null,
            "_view_module": "@jupyter-widgets/controls",
            "_view_module_version": "1.5.0",
            "_view_name": "HBoxView",
            "box_style": "",
            "children": [
              "IPY_MODEL_b50b972f2bc44ea28df25859bc58d354",
              "IPY_MODEL_59da1761f0924609a05d3b38b9e3a3d1",
              "IPY_MODEL_086d29fd593d4c9f8e6fbe1f2549c81c"
            ],
            "layout": "IPY_MODEL_2173bb84dd984c17b048c478e5d21423"
          }
        },
        "b50b972f2bc44ea28df25859bc58d354": {
          "model_module": "@jupyter-widgets/controls",
          "model_name": "HTMLModel",
          "model_module_version": "1.5.0",
          "state": {
            "_dom_classes": [],
            "_model_module": "@jupyter-widgets/controls",
            "_model_module_version": "1.5.0",
            "_model_name": "HTMLModel",
            "_view_count": null,
            "_view_module": "@jupyter-widgets/controls",
            "_view_module_version": "1.5.0",
            "_view_name": "HTMLView",
            "description": "",
            "description_tooltip": null,
            "layout": "IPY_MODEL_5ee2d74cad934a56bb6641e8dd655e6b",
            "placeholder": "​",
            "style": "IPY_MODEL_523c859472f44539a945b6f92cc40f03",
            "value": "Transcribing: 100%"
          }
        },
        "59da1761f0924609a05d3b38b9e3a3d1": {
          "model_module": "@jupyter-widgets/controls",
          "model_name": "FloatProgressModel",
          "model_module_version": "1.5.0",
          "state": {
            "_dom_classes": [],
            "_model_module": "@jupyter-widgets/controls",
            "_model_module_version": "1.5.0",
            "_model_name": "FloatProgressModel",
            "_view_count": null,
            "_view_module": "@jupyter-widgets/controls",
            "_view_module_version": "1.5.0",
            "_view_name": "ProgressView",
            "bar_style": "success",
            "description": "",
            "description_tooltip": null,
            "layout": "IPY_MODEL_52f36a99a17f4e5289aa18de3025cbb7",
            "max": 1,
            "min": 0,
            "orientation": "horizontal",
            "style": "IPY_MODEL_1c7de7e6370f4b1abf3483b5eb8fb862",
            "value": 1
          }
        },
        "086d29fd593d4c9f8e6fbe1f2549c81c": {
          "model_module": "@jupyter-widgets/controls",
          "model_name": "HTMLModel",
          "model_module_version": "1.5.0",
          "state": {
            "_dom_classes": [],
            "_model_module": "@jupyter-widgets/controls",
            "_model_module_version": "1.5.0",
            "_model_name": "HTMLModel",
            "_view_count": null,
            "_view_module": "@jupyter-widgets/controls",
            "_view_module_version": "1.5.0",
            "_view_name": "HTMLView",
            "description": "",
            "description_tooltip": null,
            "layout": "IPY_MODEL_d6a601c961564b95a2952ceb79342b63",
            "placeholder": "​",
            "style": "IPY_MODEL_b1ef8afb47274a9d9bdd0617fbb2ff54",
            "value": " 1/1 [00:01&lt;00:00,  1.52s/it]"
          }
        },
        "2173bb84dd984c17b048c478e5d21423": {
          "model_module": "@jupyter-widgets/base",
          "model_name": "LayoutModel",
          "model_module_version": "1.2.0",
          "state": {
            "_model_module": "@jupyter-widgets/base",
            "_model_module_version": "1.2.0",
            "_model_name": "LayoutModel",
            "_view_count": null,
            "_view_module": "@jupyter-widgets/base",
            "_view_module_version": "1.2.0",
            "_view_name": "LayoutView",
            "align_content": null,
            "align_items": null,
            "align_self": null,
            "border": null,
            "bottom": null,
            "display": null,
            "flex": null,
            "flex_flow": null,
            "grid_area": null,
            "grid_auto_columns": null,
            "grid_auto_flow": null,
            "grid_auto_rows": null,
            "grid_column": null,
            "grid_gap": null,
            "grid_row": null,
            "grid_template_areas": null,
            "grid_template_columns": null,
            "grid_template_rows": null,
            "height": null,
            "justify_content": null,
            "justify_items": null,
            "left": null,
            "margin": null,
            "max_height": null,
            "max_width": null,
            "min_height": null,
            "min_width": null,
            "object_fit": null,
            "object_position": null,
            "order": null,
            "overflow": null,
            "overflow_x": null,
            "overflow_y": null,
            "padding": null,
            "right": null,
            "top": null,
            "visibility": null,
            "width": null
          }
        },
        "5ee2d74cad934a56bb6641e8dd655e6b": {
          "model_module": "@jupyter-widgets/base",
          "model_name": "LayoutModel",
          "model_module_version": "1.2.0",
          "state": {
            "_model_module": "@jupyter-widgets/base",
            "_model_module_version": "1.2.0",
            "_model_name": "LayoutModel",
            "_view_count": null,
            "_view_module": "@jupyter-widgets/base",
            "_view_module_version": "1.2.0",
            "_view_name": "LayoutView",
            "align_content": null,
            "align_items": null,
            "align_self": null,
            "border": null,
            "bottom": null,
            "display": null,
            "flex": null,
            "flex_flow": null,
            "grid_area": null,
            "grid_auto_columns": null,
            "grid_auto_flow": null,
            "grid_auto_rows": null,
            "grid_column": null,
            "grid_gap": null,
            "grid_row": null,
            "grid_template_areas": null,
            "grid_template_columns": null,
            "grid_template_rows": null,
            "height": null,
            "justify_content": null,
            "justify_items": null,
            "left": null,
            "margin": null,
            "max_height": null,
            "max_width": null,
            "min_height": null,
            "min_width": null,
            "object_fit": null,
            "object_position": null,
            "order": null,
            "overflow": null,
            "overflow_x": null,
            "overflow_y": null,
            "padding": null,
            "right": null,
            "top": null,
            "visibility": null,
            "width": null
          }
        },
        "523c859472f44539a945b6f92cc40f03": {
          "model_module": "@jupyter-widgets/controls",
          "model_name": "DescriptionStyleModel",
          "model_module_version": "1.5.0",
          "state": {
            "_model_module": "@jupyter-widgets/controls",
            "_model_module_version": "1.5.0",
            "_model_name": "DescriptionStyleModel",
            "_view_count": null,
            "_view_module": "@jupyter-widgets/base",
            "_view_module_version": "1.2.0",
            "_view_name": "StyleView",
            "description_width": ""
          }
        },
        "52f36a99a17f4e5289aa18de3025cbb7": {
          "model_module": "@jupyter-widgets/base",
          "model_name": "LayoutModel",
          "model_module_version": "1.2.0",
          "state": {
            "_model_module": "@jupyter-widgets/base",
            "_model_module_version": "1.2.0",
            "_model_name": "LayoutModel",
            "_view_count": null,
            "_view_module": "@jupyter-widgets/base",
            "_view_module_version": "1.2.0",
            "_view_name": "LayoutView",
            "align_content": null,
            "align_items": null,
            "align_self": null,
            "border": null,
            "bottom": null,
            "display": null,
            "flex": null,
            "flex_flow": null,
            "grid_area": null,
            "grid_auto_columns": null,
            "grid_auto_flow": null,
            "grid_auto_rows": null,
            "grid_column": null,
            "grid_gap": null,
            "grid_row": null,
            "grid_template_areas": null,
            "grid_template_columns": null,
            "grid_template_rows": null,
            "height": null,
            "justify_content": null,
            "justify_items": null,
            "left": null,
            "margin": null,
            "max_height": null,
            "max_width": null,
            "min_height": null,
            "min_width": null,
            "object_fit": null,
            "object_position": null,
            "order": null,
            "overflow": null,
            "overflow_x": null,
            "overflow_y": null,
            "padding": null,
            "right": null,
            "top": null,
            "visibility": null,
            "width": null
          }
        },
        "1c7de7e6370f4b1abf3483b5eb8fb862": {
          "model_module": "@jupyter-widgets/controls",
          "model_name": "ProgressStyleModel",
          "model_module_version": "1.5.0",
          "state": {
            "_model_module": "@jupyter-widgets/controls",
            "_model_module_version": "1.5.0",
            "_model_name": "ProgressStyleModel",
            "_view_count": null,
            "_view_module": "@jupyter-widgets/base",
            "_view_module_version": "1.2.0",
            "_view_name": "StyleView",
            "bar_color": null,
            "description_width": ""
          }
        },
        "d6a601c961564b95a2952ceb79342b63": {
          "model_module": "@jupyter-widgets/base",
          "model_name": "LayoutModel",
          "model_module_version": "1.2.0",
          "state": {
            "_model_module": "@jupyter-widgets/base",
            "_model_module_version": "1.2.0",
            "_model_name": "LayoutModel",
            "_view_count": null,
            "_view_module": "@jupyter-widgets/base",
            "_view_module_version": "1.2.0",
            "_view_name": "LayoutView",
            "align_content": null,
            "align_items": null,
            "align_self": null,
            "border": null,
            "bottom": null,
            "display": null,
            "flex": null,
            "flex_flow": null,
            "grid_area": null,
            "grid_auto_columns": null,
            "grid_auto_flow": null,
            "grid_auto_rows": null,
            "grid_column": null,
            "grid_gap": null,
            "grid_row": null,
            "grid_template_areas": null,
            "grid_template_columns": null,
            "grid_template_rows": null,
            "height": null,
            "justify_content": null,
            "justify_items": null,
            "left": null,
            "margin": null,
            "max_height": null,
            "max_width": null,
            "min_height": null,
            "min_width": null,
            "object_fit": null,
            "object_position": null,
            "order": null,
            "overflow": null,
            "overflow_x": null,
            "overflow_y": null,
            "padding": null,
            "right": null,
            "top": null,
            "visibility": null,
            "width": null
          }
        },
        "b1ef8afb47274a9d9bdd0617fbb2ff54": {
          "model_module": "@jupyter-widgets/controls",
          "model_name": "DescriptionStyleModel",
          "model_module_version": "1.5.0",
          "state": {
            "_model_module": "@jupyter-widgets/controls",
            "_model_module_version": "1.5.0",
            "_model_name": "DescriptionStyleModel",
            "_view_count": null,
            "_view_module": "@jupyter-widgets/base",
            "_view_module_version": "1.2.0",
            "_view_name": "StyleView",
            "description_width": ""
          }
        }
      }
    }
  },
  "nbformat": 4,
  "nbformat_minor": 0
}